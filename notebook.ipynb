{
 "cells": [
  {
   "cell_type": "markdown",
   "metadata": {
    "papermill": {
     "duration": 0.032858,
     "end_time": "2021-03-29T13:38:16.253584",
     "exception": false,
     "start_time": "2021-03-29T13:38:16.220726",
     "status": "completed"
    },
    "tags": []
   },
   "source": [
    "# Classify sentiments in text using Tensorflow\n",
    "\n",
    "Here I'm using [News Headlines Dataset For Sarcasm Detection ](https://www.kaggle.com/rmisra/news-headlines-dataset-for-sarcasm-detection)\n",
    "by [Rishabh Misra](https://www.kaggle.com/rmisra) to create a deep learning model which will be able to classify a sentence\n",
    "as `sarcastic or not`.\n",
    "\n",
    "**While doing all of this we will go through:**\n",
    "- How to `preprocess text` for neural networks\n",
    "- Importance of `Word Embedding` and how to visualize them\n",
    "- When to use `GlobalAveragePooling1D` and `Flatten`"
   ]
  },
  {
   "cell_type": "code",
   "execution_count": 1,
   "metadata": {
    "execution": {
     "iopub.execute_input": "2021-03-29T13:38:16.320496Z",
     "iopub.status.busy": "2021-03-29T13:38:16.319860Z",
     "iopub.status.idle": "2021-03-29T13:38:21.905053Z",
     "shell.execute_reply": "2021-03-29T13:38:21.904235Z"
    },
    "papermill": {
     "duration": 5.622049,
     "end_time": "2021-03-29T13:38:21.905160",
     "exception": false,
     "start_time": "2021-03-29T13:38:16.283111",
     "status": "completed"
    },
    "tags": []
   },
   "outputs": [
    {
     "data": {
      "text/plain": [
       "'2.3.0'"
      ]
     },
     "execution_count": 1,
     "metadata": {},
     "output_type": "execute_result"
    }
   ],
   "source": [
    "import io\n",
    "import re\n",
    "import json\n",
    "import unicodedata\n",
    "\n",
    "import numpy as np\n",
    "import pandas as pd\n",
    "from seaborn import countplot\n",
    "import matplotlib.pyplot as plt\n",
    "\n",
    "from sklearn.model_selection import train_test_split\n",
    "\n",
    "import tensorflow as tf\n",
    "from tensorflow.keras import Sequential\n",
    "from tensorflow.keras.preprocessing.text import Tokenizer\n",
    "from tensorflow.keras.metrics import AUC, Precision, Recall\n",
    "from tensorflow.keras.preprocessing.sequence import pad_sequences\n",
    "from tensorflow.keras.callbacks import Callback, ReduceLROnPlateau\n",
    "from tensorflow.keras.layers import Embedding, GlobalAveragePooling1D, Flatten, Dense\n",
    "\n",
    "tf.__version__"
   ]
  },
  {
   "cell_type": "code",
   "execution_count": 2,
   "metadata": {
    "execution": {
     "iopub.execute_input": "2021-03-29T13:38:21.969421Z",
     "iopub.status.busy": "2021-03-29T13:38:21.968672Z",
     "iopub.status.idle": "2021-03-29T13:38:32.583364Z",
     "shell.execute_reply": "2021-03-29T13:38:32.582889Z"
    },
    "papermill": {
     "duration": 10.648024,
     "end_time": "2021-03-29T13:38:32.583473",
     "exception": false,
     "start_time": "2021-03-29T13:38:21.935449",
     "status": "completed"
    },
    "tags": []
   },
   "outputs": [
    {
     "name": "stdout",
     "output_type": "stream",
     "text": [
      "Collecting contractions\r\n",
      "  Downloading contractions-0.0.48-py2.py3-none-any.whl (6.4 kB)\r\n",
      "Collecting textsearch>=0.0.21\r\n",
      "  Downloading textsearch-0.0.21-py2.py3-none-any.whl (7.5 kB)\r\n",
      "Collecting anyascii\r\n",
      "  Downloading anyascii-0.1.7-py3-none-any.whl (260 kB)\r\n",
      "\u001b[K     |████████████████████████████████| 260 kB 816 kB/s \r\n",
      "\u001b[?25hRequirement already satisfied: pyahocorasick in /opt/conda/lib/python3.7/site-packages (from textsearch>=0.0.21->contractions) (1.4.0)\r\n",
      "Installing collected packages: anyascii, textsearch, contractions\r\n",
      "Successfully installed anyascii-0.1.7 contractions-0.0.48 textsearch-0.0.21\r\n",
      "\u001b[33mWARNING: You are using pip version 20.2.2; however, version 21.0.1 is available.\r\n",
      "You should consider upgrading via the '/opt/conda/bin/python3.7 -m pip install --upgrade pip' command.\u001b[0m\r\n"
     ]
    }
   ],
   "source": [
    "!pip install contractions"
   ]
  },
  {
   "cell_type": "code",
   "execution_count": 3,
   "metadata": {
    "execution": {
     "iopub.execute_input": "2021-03-29T13:38:32.664177Z",
     "iopub.status.busy": "2021-03-29T13:38:32.657206Z",
     "iopub.status.idle": "2021-03-29T13:38:32.673942Z",
     "shell.execute_reply": "2021-03-29T13:38:32.674560Z"
    },
    "papermill": {
     "duration": 0.056152,
     "end_time": "2021-03-29T13:38:32.674701",
     "exception": false,
     "start_time": "2021-03-29T13:38:32.618549",
     "status": "completed"
    },
    "tags": []
   },
   "outputs": [
    {
     "name": "stdout",
     "output_type": "stream",
     "text": [
      "I'm == I am\n",
      "I'm'a == I am about to\n",
      "I'm'o == I am going to\n",
      "I've == I have\n",
      "I'll == I will\n",
      "I'll've == I will have\n",
      "I'd == I would\n",
      "I'd've == I would have\n",
      "Whatcha == What are you\n",
      "amn't == am not\n"
     ]
    }
   ],
   "source": [
    "from contractions import contractions_dict\n",
    "\n",
    "for key, value in list(contractions_dict.items())[:10]:\n",
    "    print(f'{key} == {value}')"
   ]
  },
  {
   "cell_type": "markdown",
   "metadata": {
    "papermill": {
     "duration": 0.033981,
     "end_time": "2021-03-29T13:38:32.743797",
     "exception": false,
     "start_time": "2021-03-29T13:38:32.709816",
     "status": "completed"
    },
    "tags": []
   },
   "source": [
    "## 🛳 Getting dataset"
   ]
  },
  {
   "cell_type": "markdown",
   "metadata": {
    "papermill": {
     "duration": 0.034446,
     "end_time": "2021-03-29T13:38:32.812900",
     "exception": false,
     "start_time": "2021-03-29T13:38:32.778454",
     "status": "completed"
    },
    "tags": []
   },
   "source": [
    "The `json` file here is `invalid` and cannot be printed directly. The reason is because here the JSON has multiple objects at the top level. The solution is wrap those multiple objects in to one top level array and then make those objects its elements. Refer to this 👉 [stackoverflow post](https://stackoverflow.com/questions/51919698/cant-parse-json-file-json-decoder-jsondecodeerror-extra-data) for more details."
   ]
  },
  {
   "cell_type": "code",
   "execution_count": 4,
   "metadata": {
    "execution": {
     "iopub.execute_input": "2021-03-29T13:38:32.888410Z",
     "iopub.status.busy": "2021-03-29T13:38:32.887654Z",
     "iopub.status.idle": "2021-03-29T13:38:32.890601Z",
     "shell.execute_reply": "2021-03-29T13:38:32.890166Z"
    },
    "papermill": {
     "duration": 0.04364,
     "end_time": "2021-03-29T13:38:32.890692",
     "exception": false,
     "start_time": "2021-03-29T13:38:32.847052",
     "status": "completed"
    },
    "tags": []
   },
   "outputs": [],
   "source": [
    "# Print few examples from the json file\n",
    "def print_invalid_json(filename, num_of_examples=5):\n",
    "    with open(filename) as f:\n",
    "        data = json.loads('[' + f.read().replace('}\\n{', '}, \\n{') + ']')\n",
    "    print(json.dumps(data[:num_of_examples], indent=2, sort_keys=True))"
   ]
  },
  {
   "cell_type": "code",
   "execution_count": 5,
   "metadata": {
    "execution": {
     "iopub.execute_input": "2021-03-29T13:38:32.966750Z",
     "iopub.status.busy": "2021-03-29T13:38:32.966122Z",
     "iopub.status.idle": "2021-03-29T13:38:34.083177Z",
     "shell.execute_reply": "2021-03-29T13:38:34.084165Z"
    },
    "papermill": {
     "duration": 1.158938,
     "end_time": "2021-03-29T13:38:34.084323",
     "exception": false,
     "start_time": "2021-03-29T13:38:32.925385",
     "status": "completed"
    },
    "tags": []
   },
   "outputs": [
    {
     "name": "stdout",
     "output_type": "stream",
     "text": [
      "2 examples from first json file\n",
      "\n",
      "[\n",
      "  {\n",
      "    \"article_link\": \"https://www.huffingtonpost.com/entry/versace-black-code_us_5861fbefe4b0de3a08f600d5\",\n",
      "    \"headline\": \"former versace store clerk sues over secret 'black code' for minority shoppers\",\n",
      "    \"is_sarcastic\": 0\n",
      "  },\n",
      "  {\n",
      "    \"article_link\": \"https://www.huffingtonpost.com/entry/roseanne-revival-review_us_5ab3a497e4b054d118e04365\",\n",
      "    \"headline\": \"the 'roseanne' revival catches up to our thorny political mood, for better and worse\",\n",
      "    \"is_sarcastic\": 0\n",
      "  }\n",
      "]\n",
      "\n",
      "\n",
      "2 examples from second json file\n",
      "\n",
      "[\n",
      "  {\n",
      "    \"article_link\": \"https://www.theonion.com/thirtysomething-scientists-unveil-doomsday-clock-of-hai-1819586205\",\n",
      "    \"headline\": \"thirtysomething scientists unveil doomsday clock of hair loss\",\n",
      "    \"is_sarcastic\": 1\n",
      "  },\n",
      "  {\n",
      "    \"article_link\": \"https://www.huffingtonpost.com/entry/donna-edwards-inequality_us_57455f7fe4b055bb1170b207\",\n",
      "    \"headline\": \"dem rep. totally nails why congress is falling short on gender, racial equality\",\n",
      "    \"is_sarcastic\": 0\n",
      "  }\n",
      "]\n"
     ]
    },
    {
     "data": {
      "text/html": [
       "<div>\n",
       "<style scoped>\n",
       "    .dataframe tbody tr th:only-of-type {\n",
       "        vertical-align: middle;\n",
       "    }\n",
       "\n",
       "    .dataframe tbody tr th {\n",
       "        vertical-align: top;\n",
       "    }\n",
       "\n",
       "    .dataframe thead th {\n",
       "        text-align: right;\n",
       "    }\n",
       "</style>\n",
       "<table border=\"1\" class=\"dataframe\">\n",
       "  <thead>\n",
       "    <tr style=\"text-align: right;\">\n",
       "      <th></th>\n",
       "      <th>article_link</th>\n",
       "      <th>headline</th>\n",
       "      <th>is_sarcastic</th>\n",
       "    </tr>\n",
       "  </thead>\n",
       "  <tbody>\n",
       "    <tr>\n",
       "      <th>236</th>\n",
       "      <td>https://www.huffingtonpost.com/entry/google-ti...</td>\n",
       "      <td>discover how climate change is rapidly transfo...</td>\n",
       "      <td>0</td>\n",
       "    </tr>\n",
       "    <tr>\n",
       "      <th>13309</th>\n",
       "      <td>https://entertainment.theonion.com/jeff-bridge...</td>\n",
       "      <td>jeff bridges seated directly behind support co...</td>\n",
       "      <td>1</td>\n",
       "    </tr>\n",
       "    <tr>\n",
       "      <th>22411</th>\n",
       "      <td>https://www.huffingtonpost.comhttp://highline....</td>\n",
       "      <td>this is what it feels like to lose to donald t...</td>\n",
       "      <td>0</td>\n",
       "    </tr>\n",
       "    <tr>\n",
       "      <th>15127</th>\n",
       "      <td>https://www.huffingtonpost.com/entry/parent-fu...</td>\n",
       "      <td>why we should remember to treat every day like...</td>\n",
       "      <td>0</td>\n",
       "    </tr>\n",
       "    <tr>\n",
       "      <th>13556</th>\n",
       "      <td>https://www.theonion.com/new-biblical-text-rev...</td>\n",
       "      <td>new biblical text reveals god first sent chris...</td>\n",
       "      <td>1</td>\n",
       "    </tr>\n",
       "  </tbody>\n",
       "</table>\n",
       "</div>"
      ],
      "text/plain": [
       "                                            article_link  \\\n",
       "236    https://www.huffingtonpost.com/entry/google-ti...   \n",
       "13309  https://entertainment.theonion.com/jeff-bridge...   \n",
       "22411  https://www.huffingtonpost.comhttp://highline....   \n",
       "15127  https://www.huffingtonpost.com/entry/parent-fu...   \n",
       "13556  https://www.theonion.com/new-biblical-text-rev...   \n",
       "\n",
       "                                                headline  is_sarcastic  \n",
       "236    discover how climate change is rapidly transfo...             0  \n",
       "13309  jeff bridges seated directly behind support co...             1  \n",
       "22411  this is what it feels like to lose to donald t...             0  \n",
       "15127  why we should remember to treat every day like...             0  \n",
       "13556  new biblical text reveals god first sent chris...             1  "
      ]
     },
     "execution_count": 5,
     "metadata": {},
     "output_type": "execute_result"
    }
   ],
   "source": [
    "# Getting the dataset\n",
    "def load_dataset():\n",
    "    # There are 2 json files in which the data is stored\n",
    "    first_file_path = '/kaggle/input/news-headlines-dataset-for-sarcasm-detection/Sarcasm_Headlines_Dataset.json'\n",
    "    second_file_path = '/kaggle/input/news-headlines-dataset-for-sarcasm-detection/Sarcasm_Headlines_Dataset_v2.json'\n",
    "\n",
    "    # Printing json file examples\n",
    "    print(f'2 examples from first json file\\n')\n",
    "    print_invalid_json(first_file_path, num_of_examples=2)\n",
    "    print(f'\\n\\n2 examples from second json file\\n')\n",
    "    print_invalid_json(second_file_path, num_of_examples=2)\n",
    "\n",
    "    first_df = pd.read_json(first_file_path, lines=True)\n",
    "    second_df = pd.read_json(second_file_path, lines=True)\n",
    "    return pd.concat([first_df, second_df], axis='rows')\n",
    "\n",
    "\n",
    "df = load_dataset()\n",
    "df.sample(5)"
   ]
  },
  {
   "cell_type": "markdown",
   "metadata": {
    "papermill": {
     "duration": 0.056243,
     "end_time": "2021-03-29T13:38:34.195962",
     "exception": false,
     "start_time": "2021-03-29T13:38:34.139719",
     "status": "completed"
    },
    "tags": []
   },
   "source": [
    "## 🚧 Data preparation"
   ]
  },
  {
   "cell_type": "markdown",
   "metadata": {
    "papermill": {
     "duration": 0.05735,
     "end_time": "2021-03-29T13:38:34.314244",
     "exception": false,
     "start_time": "2021-03-29T13:38:34.256894",
     "status": "completed"
    },
    "tags": []
   },
   "source": [
    "![](https://media.giphy.com/media/xsATxBQfeKHCg/giphy.gif)"
   ]
  },
  {
   "cell_type": "markdown",
   "metadata": {
    "papermill": {
     "duration": 0.035454,
     "end_time": "2021-03-29T13:38:34.385815",
     "exception": false,
     "start_time": "2021-03-29T13:38:34.350361",
     "status": "completed"
    },
    "tags": []
   },
   "source": [
    "Let's see how much the dataset is `balanced`."
   ]
  },
  {
   "cell_type": "code",
   "execution_count": 6,
   "metadata": {
    "execution": {
     "iopub.execute_input": "2021-03-29T13:38:34.463350Z",
     "iopub.status.busy": "2021-03-29T13:38:34.462588Z",
     "iopub.status.idle": "2021-03-29T13:38:34.606861Z",
     "shell.execute_reply": "2021-03-29T13:38:34.606395Z"
    },
    "papermill": {
     "duration": 0.185735,
     "end_time": "2021-03-29T13:38:34.606965",
     "exception": false,
     "start_time": "2021-03-29T13:38:34.421230",
     "status": "completed"
    },
    "tags": []
   },
   "outputs": [
    {
     "data": {
      "text/plain": [
       "<matplotlib.axes._subplots.AxesSubplot at 0x7fa057f83b90>"
      ]
     },
     "execution_count": 6,
     "metadata": {},
     "output_type": "execute_result"
    },
    {
     "data": {
      "image/png": "[encoded data removed]",
      "text/plain": [
       "<Figure size 432x288 with 1 Axes>"
      ]
     },
     "metadata": {
      "needs_background": "light"
     },
     "output_type": "display_data"
    }
   ],
   "source": [
    "countplot(df.is_sarcastic)"
   ]
  },
  {
   "cell_type": "markdown",
   "metadata": {
    "papermill": {
     "duration": 0.039324,
     "end_time": "2021-03-29T13:38:34.684189",
     "exception": false,
     "start_time": "2021-03-29T13:38:34.644865",
     "status": "completed"
    },
    "tags": []
   },
   "source": [
    "Dropping the `article_link` column as I'm just going to use `headline` text as data. You can use the links, make `GET` request and `parse` the content to get more data. Here one concern will be that you have to use more complex model if your sentence or paragraphs are too long."
   ]
  },
  {
   "cell_type": "code",
   "execution_count": 7,
   "metadata": {
    "execution": {
     "iopub.execute_input": "2021-03-29T13:38:34.774218Z",
     "iopub.status.busy": "2021-03-29T13:38:34.763499Z",
     "iopub.status.idle": "2021-03-29T13:38:34.777560Z",
     "shell.execute_reply": "2021-03-29T13:38:34.777118Z"
    },
    "papermill": {
     "duration": 0.056455,
     "end_time": "2021-03-29T13:38:34.777658",
     "exception": false,
     "start_time": "2021-03-29T13:38:34.721203",
     "status": "completed"
    },
    "tags": []
   },
   "outputs": [
    {
     "data": {
      "text/html": [
       "<div>\n",
       "<style scoped>\n",
       "    .dataframe tbody tr th:only-of-type {\n",
       "        vertical-align: middle;\n",
       "    }\n",
       "\n",
       "    .dataframe tbody tr th {\n",
       "        vertical-align: top;\n",
       "    }\n",
       "\n",
       "    .dataframe thead th {\n",
       "        text-align: right;\n",
       "    }\n",
       "</style>\n",
       "<table border=\"1\" class=\"dataframe\">\n",
       "  <thead>\n",
       "    <tr style=\"text-align: right;\">\n",
       "      <th></th>\n",
       "      <th>headline</th>\n",
       "      <th>is_sarcastic</th>\n",
       "    </tr>\n",
       "  </thead>\n",
       "  <tbody>\n",
       "    <tr>\n",
       "      <th>16307</th>\n",
       "      <td>huffpollster: texas and massachusetts are the ...</td>\n",
       "      <td>0</td>\n",
       "    </tr>\n",
       "    <tr>\n",
       "      <th>21555</th>\n",
       "      <td>diego luna's short film celebrates 'the immigr...</td>\n",
       "      <td>0</td>\n",
       "    </tr>\n",
       "    <tr>\n",
       "      <th>6100</th>\n",
       "      <td>14-year anniversary of 'crash bandicoot' passe...</td>\n",
       "      <td>1</td>\n",
       "    </tr>\n",
       "    <tr>\n",
       "      <th>12224</th>\n",
       "      <td>sleeping man flanked by laptop, phone, earbuds...</td>\n",
       "      <td>1</td>\n",
       "    </tr>\n",
       "    <tr>\n",
       "      <th>5935</th>\n",
       "      <td>justin bieber's latest 'carpool karaoke' is to...</td>\n",
       "      <td>0</td>\n",
       "    </tr>\n",
       "  </tbody>\n",
       "</table>\n",
       "</div>"
      ],
      "text/plain": [
       "                                                headline  is_sarcastic\n",
       "16307  huffpollster: texas and massachusetts are the ...             0\n",
       "21555  diego luna's short film celebrates 'the immigr...             0\n",
       "6100   14-year anniversary of 'crash bandicoot' passe...             1\n",
       "12224  sleeping man flanked by laptop, phone, earbuds...             1\n",
       "5935   justin bieber's latest 'carpool karaoke' is to...             0"
      ]
     },
     "execution_count": 7,
     "metadata": {},
     "output_type": "execute_result"
    }
   ],
   "source": [
    "df.drop(['article_link'], axis='columns', inplace=True)\n",
    "df.sample(5)"
   ]
  },
  {
   "cell_type": "code",
   "execution_count": 8,
   "metadata": {
    "execution": {
     "iopub.execute_input": "2021-03-29T13:38:34.864096Z",
     "iopub.status.busy": "2021-03-29T13:38:34.858941Z",
     "iopub.status.idle": "2021-03-29T13:38:34.872410Z",
     "shell.execute_reply": "2021-03-29T13:38:34.871877Z"
    },
    "papermill": {
     "duration": 0.057831,
     "end_time": "2021-03-29T13:38:34.872498",
     "exception": false,
     "start_time": "2021-03-29T13:38:34.814667",
     "status": "completed"
    },
    "tags": []
   },
   "outputs": [
    {
     "data": {
      "text/plain": [
       "'you all can not expand contractions id think'"
      ]
     },
     "execution_count": 8,
     "metadata": {},
     "output_type": "execute_result"
    }
   ],
   "source": [
    "def expand_contractions(text, contraction_map=contractions_dict):    \n",
    "    # Using regex for getting all contracted words\n",
    "    contractions_keys = '|'.join(contraction_map.keys())\n",
    "    contractions_pattern = re.compile(f'({contractions_keys})', flags=re.DOTALL)\n",
    "\n",
    "    def expand_match(contraction):\n",
    "        # Getting entire matched sub-string\n",
    "        match = contraction.group(0)\n",
    "        expanded_contraction = contraction_map.get(match)     \n",
    "        if not expand_contractions:\n",
    "            print(match)\n",
    "            return match\n",
    "        return expanded_contraction\n",
    "\n",
    "    expanded_text = contractions_pattern.sub(expand_match, text)\n",
    "    expanded_text = re.sub(\"'\", \"\", expanded_text)\n",
    "    return expanded_text\n",
    "\n",
    "\n",
    "expand_contractions(\"y'all can't expand contractions i'd think\")"
   ]
  },
  {
   "cell_type": "code",
   "execution_count": 9,
   "metadata": {
    "execution": {
     "iopub.execute_input": "2021-03-29T13:38:34.972177Z",
     "iopub.status.busy": "2021-03-29T13:38:34.954708Z",
     "iopub.status.idle": "2021-03-29T13:38:34.981441Z",
     "shell.execute_reply": "2021-03-29T13:38:34.981019Z"
    },
    "papermill": {
     "duration": 0.070555,
     "end_time": "2021-03-29T13:38:34.981551",
     "exception": false,
     "start_time": "2021-03-29T13:38:34.910996",
     "status": "completed"
    },
    "tags": []
   },
   "outputs": [
    {
     "name": "stdout",
     "output_type": "stream",
     "text": [
      "                                                headline  is_sarcastic\n",
      "14376  nation's economists quietly evacuating their f...             1\n",
      "19181                    mars and venus in mental health             0\n",
      "6987   queen elizabeth ii to wed longtime partner fol...             1\n",
      "5353   perfect response to heckler somewhere in prop ...             1\n",
      "11086  regal cinemas suddenly realizes it's been play...             1\n",
      "\n",
      "i'm == i am\n",
      "i'm'a == i am about to\n",
      "i'm'o == i am going to\n",
      "i've == i have\n",
      "i'll == i will\n",
      "i'll've == i will have\n",
      "i'd == i would\n",
      "i'd've == i would have\n",
      "whatcha == what are you\n",
      "amn't == am not\n"
     ]
    }
   ],
   "source": [
    "# lowering the case of text and keys and values of contraction_dict to avoid any discrepancies\n",
    "\n",
    "df.headline = df.headline.apply(str.lower)\n",
    "print(df.sample(5))\n",
    "\n",
    "print()\n",
    "\n",
    "contractions_dict = {key.lower(): value.lower() for key, value in contractions_dict.items()}\n",
    "for key, value in list(contractions_dict.items())[:10]:\n",
    "    print(f'{key} == {value}')"
   ]
  },
  {
   "cell_type": "markdown",
   "metadata": {
    "papermill": {
     "duration": 0.038273,
     "end_time": "2021-03-29T13:38:35.058078",
     "exception": false,
     "start_time": "2021-03-29T13:38:35.019805",
     "status": "completed"
    },
    "tags": []
   },
   "source": [
    "Removing all `months` shorthands `(mar.|dec.|oct.)` as it confuses our `regex pattern`. For examples: `mark`, `deci`, `deca`, etc. This happens due to the `dot(.)` char at the end which match any one char. There might be other such chars that will produce such issues. To fix this just replace `.` with this `\\.` which will ensure that only if there is `.` char then only make changes."
   ]
  },
  {
   "cell_type": "code",
   "execution_count": 10,
   "metadata": {
    "execution": {
     "iopub.execute_input": "2021-03-29T13:38:35.141626Z",
     "iopub.status.busy": "2021-03-29T13:38:35.140741Z",
     "iopub.status.idle": "2021-03-29T13:38:35.145461Z",
     "shell.execute_reply": "2021-03-29T13:38:35.146053Z"
    },
    "papermill": {
     "duration": 0.050339,
     "end_time": "2021-03-29T13:38:35.146208",
     "exception": false,
     "start_time": "2021-03-29T13:38:35.095869",
     "status": "completed"
    },
    "tags": []
   },
   "outputs": [
    {
     "name": "stdout",
     "output_type": "stream",
     "text": [
      "i'm == i am\n",
      "i'm'a == i am about to\n",
      "i'm'o == i am going to\n",
      "i've == i have\n",
      "i'll == i will\n",
      "i'll've == i will have\n",
      "i'd == i would\n",
      "i'd've == i would have\n",
      "whatcha == what are you\n",
      "amn't == am not\n"
     ]
    }
   ],
   "source": [
    "def refactor_contraction_dict(contraction_map):\n",
    "    new_contraction_dict = {}\n",
    "    for key, value in contraction_map.items():\n",
    "        if '.' in key:\n",
    "            key = key.replace('.', '\\.')\n",
    "        new_contraction_dict[key] = value\n",
    "    return new_contraction_dict\n",
    "\n",
    "\n",
    "contractions_dict = refactor_contraction_dict(contractions_dict)\n",
    "for key, value in list(contractions_dict.items())[:10]:\n",
    "    print(f'{key} == {value}')"
   ]
  },
  {
   "cell_type": "code",
   "execution_count": 11,
   "metadata": {
    "execution": {
     "iopub.execute_input": "2021-03-29T13:38:35.237906Z",
     "iopub.status.busy": "2021-03-29T13:38:35.227639Z",
     "iopub.status.idle": "2021-03-29T13:38:38.480115Z",
     "shell.execute_reply": "2021-03-29T13:38:38.480549Z"
    },
    "papermill": {
     "duration": 3.29576,
     "end_time": "2021-03-29T13:38:38.480673",
     "exception": false,
     "start_time": "2021-03-29T13:38:35.184913",
     "status": "completed"
    },
    "tags": []
   },
   "outputs": [
    {
     "data": {
      "text/html": [
       "<div>\n",
       "<style scoped>\n",
       "    .dataframe tbody tr th:only-of-type {\n",
       "        vertical-align: middle;\n",
       "    }\n",
       "\n",
       "    .dataframe tbody tr th {\n",
       "        vertical-align: top;\n",
       "    }\n",
       "\n",
       "    .dataframe thead th {\n",
       "        text-align: right;\n",
       "    }\n",
       "</style>\n",
       "<table border=\"1\" class=\"dataframe\">\n",
       "  <thead>\n",
       "    <tr style=\"text-align: right;\">\n",
       "      <th></th>\n",
       "      <th>headline</th>\n",
       "      <th>is_sarcastic</th>\n",
       "    </tr>\n",
       "  </thead>\n",
       "  <tbody>\n",
       "    <tr>\n",
       "      <th>24875</th>\n",
       "      <td>anti-abortion governor ironically tweets about...</td>\n",
       "      <td>0</td>\n",
       "    </tr>\n",
       "    <tr>\n",
       "      <th>28380</th>\n",
       "      <td>obamacare repeal could be more difficult than ...</td>\n",
       "      <td>0</td>\n",
       "    </tr>\n",
       "    <tr>\n",
       "      <th>22114</th>\n",
       "      <td>tsa agents to now simply stand at checkpoints ...</td>\n",
       "      <td>1</td>\n",
       "    </tr>\n",
       "    <tr>\n",
       "      <th>8716</th>\n",
       "      <td>determined circle of friends diligently traces...</td>\n",
       "      <td>1</td>\n",
       "    </tr>\n",
       "    <tr>\n",
       "      <th>17766</th>\n",
       "      <td>the american stories that cannot be untold</td>\n",
       "      <td>0</td>\n",
       "    </tr>\n",
       "  </tbody>\n",
       "</table>\n",
       "</div>"
      ],
      "text/plain": [
       "                                                headline  is_sarcastic\n",
       "24875  anti-abortion governor ironically tweets about...             0\n",
       "28380  obamacare repeal could be more difficult than ...             0\n",
       "22114  tsa agents to now simply stand at checkpoints ...             1\n",
       "8716   determined circle of friends diligently traces...             1\n",
       "17766         the american stories that cannot be untold             0"
      ]
     },
     "execution_count": 11,
     "metadata": {},
     "output_type": "execute_result"
    }
   ],
   "source": [
    "df.headline = df.headline.apply(lambda x: expand_contractions(x))\n",
    "df.sample(5)"
   ]
  },
  {
   "cell_type": "code",
   "execution_count": 12,
   "metadata": {
    "execution": {
     "iopub.execute_input": "2021-03-29T13:38:38.575570Z",
     "iopub.status.busy": "2021-03-29T13:38:38.574744Z",
     "iopub.status.idle": "2021-03-29T13:38:38.577550Z",
     "shell.execute_reply": "2021-03-29T13:38:38.577124Z"
    },
    "papermill": {
     "duration": 0.057622,
     "end_time": "2021-03-29T13:38:38.577642",
     "exception": false,
     "start_time": "2021-03-29T13:38:38.520020",
     "status": "completed"
    },
    "tags": []
   },
   "outputs": [],
   "source": [
    "# Removing unnecessary characters from text\n",
    "def clean_text(text):\n",
    "    text = re.sub(\"(\\\\t)\", ' ', str(text)).lower()\n",
    "    text = re.sub(\"(\\\\r)\", ' ', str(text)).lower()\n",
    "    text = re.sub(\"(\\\\n)\", ' ', str(text)).lower()\n",
    "    \n",
    "    # remove accented chars ('Sómě Áccěntěd těxt' => 'Some Accented text')\n",
    "    text = unicodedata.normalize('NFKD', text).encode('ascii', 'ignore').decode('utf-8', 'ignore')\n",
    "\n",
    "    text = re.sub(\"(__+)\", ' ', str(text)).lower()\n",
    "    text = re.sub(\"(--+)\", ' ', str(text)).lower()\n",
    "    text = re.sub(\"(~~+)\", ' ', str(text)).lower()\n",
    "    text = re.sub(\"(\\+\\++)\", ' ', str(text)).lower()\n",
    "    text = re.sub(\"(\\.\\.+)\", ' ', str(text)).lower()\n",
    "\n",
    "    text = re.sub(r\"[<>()|&©ø\\[\\]\\'\\\",;?~*!]\", ' ', str(text)).lower()\n",
    "\n",
    "    text = re.sub(\"(mailto:)\", ' ', str(text)).lower()\n",
    "    text = re.sub(r\"(\\\\x9\\d)\", ' ', str(text)).lower()\n",
    "    text = re.sub(\"([iI][nN][cC]\\d+)\", 'INC_NUM', str(text)).lower()\n",
    "    text = re.sub(\"([cC][mM]\\d+)|([cC][hH][gG]\\d+)\", 'CM_NUM', str(text)).lower()\n",
    "\n",
    "    text = re.sub(\"(\\.\\s+)\", ' ', str(text)).lower()\n",
    "    text = re.sub(\"(\\-\\s+)\", ' ', str(text)).lower()\n",
    "    text = re.sub(\"(\\:\\s+)\", ' ', str(text)).lower()\n",
    "    text = re.sub(\"(\\s+.\\s+)\", ' ', str(text)).lower()\n",
    "\n",
    "    try:\n",
    "        url = re.search(r'((https*:\\/*)([^\\/\\s]+))(.[^\\s]+)', str(text))\n",
    "        repl_url = url.group(3)\n",
    "        text = re.sub(r'((https*:\\/*)([^\\/\\s]+))(.[^\\s]+)', repl_url, str(text))\n",
    "    except:\n",
    "        pass\n",
    "\n",
    "    text = re.sub(\"(\\s+)\", ' ', str(text)).lower()\n",
    "    text = re.sub(\"(\\s+.\\s+)\", ' ', str(text)).lower()\n",
    "\n",
    "    return text"
   ]
  },
  {
   "cell_type": "code",
   "execution_count": 13,
   "metadata": {
    "execution": {
     "iopub.execute_input": "2021-03-29T13:38:38.666213Z",
     "iopub.status.busy": "2021-03-29T13:38:38.665415Z",
     "iopub.status.idle": "2021-03-29T13:38:41.710332Z",
     "shell.execute_reply": "2021-03-29T13:38:41.710779Z"
    },
    "papermill": {
     "duration": 3.094466,
     "end_time": "2021-03-29T13:38:41.710907",
     "exception": false,
     "start_time": "2021-03-29T13:38:38.616441",
     "status": "completed"
    },
    "tags": []
   },
   "outputs": [
    {
     "data": {
      "text/html": [
       "<div>\n",
       "<style scoped>\n",
       "    .dataframe tbody tr th:only-of-type {\n",
       "        vertical-align: middle;\n",
       "    }\n",
       "\n",
       "    .dataframe tbody tr th {\n",
       "        vertical-align: top;\n",
       "    }\n",
       "\n",
       "    .dataframe thead th {\n",
       "        text-align: right;\n",
       "    }\n",
       "</style>\n",
       "<table border=\"1\" class=\"dataframe\">\n",
       "  <thead>\n",
       "    <tr style=\"text-align: right;\">\n",
       "      <th></th>\n",
       "      <th>headline</th>\n",
       "      <th>is_sarcastic</th>\n",
       "    </tr>\n",
       "  </thead>\n",
       "  <tbody>\n",
       "    <tr>\n",
       "      <th>7115</th>\n",
       "      <td>report it apparently time in conversation to s...</td>\n",
       "      <td>1</td>\n",
       "    </tr>\n",
       "    <tr>\n",
       "      <th>21971</th>\n",
       "      <td>new grill to revive fortheman-ali rivalry</td>\n",
       "      <td>1</td>\n",
       "    </tr>\n",
       "    <tr>\n",
       "      <th>8775</th>\n",
       "      <td>furloughed bison pour back into national parks...</td>\n",
       "      <td>1</td>\n",
       "    </tr>\n",
       "    <tr>\n",
       "      <th>19610</th>\n",
       "      <td>hey all you 20-somethings breathe</td>\n",
       "      <td>0</td>\n",
       "    </tr>\n",
       "    <tr>\n",
       "      <th>22990</th>\n",
       "      <td>the 10 most crushworthy leading women in ya</td>\n",
       "      <td>0</td>\n",
       "    </tr>\n",
       "  </tbody>\n",
       "</table>\n",
       "</div>"
      ],
      "text/plain": [
       "                                                headline  is_sarcastic\n",
       "7115   report it apparently time in conversation to s...             1\n",
       "21971          new grill to revive fortheman-ali rivalry             1\n",
       "8775   furloughed bison pour back into national parks...             1\n",
       "19610                  hey all you 20-somethings breathe             0\n",
       "22990        the 10 most crushworthy leading women in ya             0"
      ]
     },
     "execution_count": 13,
     "metadata": {},
     "output_type": "execute_result"
    }
   ],
   "source": [
    "df.headline = df.headline.apply(lambda x: clean_text(x))\n",
    "df.sample(5)"
   ]
  },
  {
   "cell_type": "markdown",
   "metadata": {
    "papermill": {
     "duration": 0.039317,
     "end_time": "2021-03-29T13:38:41.789920",
     "exception": false,
     "start_time": "2021-03-29T13:38:41.750603",
     "status": "completed"
    },
    "tags": []
   },
   "source": [
    "### Preparaing dataset for neural networks"
   ]
  },
  {
   "cell_type": "code",
   "execution_count": 14,
   "metadata": {
    "execution": {
     "iopub.execute_input": "2021-03-29T13:38:41.875677Z",
     "iopub.status.busy": "2021-03-29T13:38:41.874905Z",
     "iopub.status.idle": "2021-03-29T13:38:41.889893Z",
     "shell.execute_reply": "2021-03-29T13:38:41.889464Z"
    },
    "papermill": {
     "duration": 0.060191,
     "end_time": "2021-03-29T13:38:41.889980",
     "exception": false,
     "start_time": "2021-03-29T13:38:41.829789",
     "status": "completed"
    },
    "tags": []
   },
   "outputs": [],
   "source": [
    "# Suffling the dataframe\n",
    "df = df.sample(frac=1).reset_index(drop=True)\n",
    "\n",
    "# Splitting the dataset into training & testing\n",
    "x_train, x_test, y_train, y_test = train_test_split(\n",
    "    df[['headline']], df[['is_sarcastic']], \n",
    "    test_size=0.15, \n",
    "    random_state=0\n",
    ")"
   ]
  },
  {
   "cell_type": "code",
   "execution_count": 15,
   "metadata": {
    "execution": {
     "iopub.execute_input": "2021-03-29T13:38:41.976046Z",
     "iopub.status.busy": "2021-03-29T13:38:41.975254Z",
     "iopub.status.idle": "2021-03-29T13:38:41.978562Z",
     "shell.execute_reply": "2021-03-29T13:38:41.979063Z"
    },
    "papermill": {
     "duration": 0.049506,
     "end_time": "2021-03-29T13:38:41.979161",
     "exception": false,
     "start_time": "2021-03-29T13:38:41.929655",
     "status": "completed"
    },
    "tags": []
   },
   "outputs": [
    {
     "data": {
      "text/plain": [
       "['entire room mentally shaving mans facial hair',\n",
       " 'obesity-study lab rats life pretty sweet',\n",
       " 'iraq pm ythemen conflict could engulf entire region in war',\n",
       " 'satellite images indicate north korea is working on ballistic missile subne',\n",
       " 'aretha franklin dthemands f-u-d-g-e']"
      ]
     },
     "execution_count": 15,
     "metadata": {},
     "output_type": "execute_result"
    }
   ],
   "source": [
    "sentences = x_train.headline.tolist()\n",
    "y = y_train.is_sarcastic.tolist()\n",
    "\n",
    "sentences[:5]"
   ]
  },
  {
   "cell_type": "markdown",
   "metadata": {
    "papermill": {
     "duration": 0.039811,
     "end_time": "2021-03-29T13:38:42.059151",
     "exception": false,
     "start_time": "2021-03-29T13:38:42.019340",
     "status": "completed"
    },
    "tags": []
   },
   "source": [
    "Setting a `vocabulary` size and `token` for words which are not in our vocabulary (`<UNK>` or `<OOV>`)."
   ]
  },
  {
   "cell_type": "code",
   "execution_count": 16,
   "metadata": {
    "execution": {
     "iopub.execute_input": "2021-03-29T13:38:42.216793Z",
     "iopub.status.busy": "2021-03-29T13:38:42.214985Z",
     "iopub.status.idle": "2021-03-29T13:38:42.219355Z",
     "shell.execute_reply": "2021-03-29T13:38:42.218706Z"
    },
    "papermill": {
     "duration": 0.120252,
     "end_time": "2021-03-29T13:38:42.219482",
     "exception": false,
     "start_time": "2021-03-29T13:38:42.099230",
     "status": "completed"
    },
    "tags": []
   },
   "outputs": [
    {
     "name": "stdout",
     "output_type": "stream",
     "text": [
      "Vocab size: 29332\n"
     ]
    }
   ],
   "source": [
    "print(f\"Vocab size: {len(set(' '.join(sentences).split(' ')))}\")\n",
    "\n",
    "vocab_size = 15_000\n",
    "oov_token = '<OOV>'"
   ]
  },
  {
   "cell_type": "markdown",
   "metadata": {
    "papermill": {
     "duration": 0.040285,
     "end_time": "2021-03-29T13:38:42.302168",
     "exception": false,
     "start_time": "2021-03-29T13:38:42.261883",
     "status": "completed"
    },
    "tags": []
   },
   "source": [
    "`Tokenizing` sentences as `neural networks` work with `numeric` data."
   ]
  },
  {
   "cell_type": "code",
   "execution_count": 17,
   "metadata": {
    "execution": {
     "iopub.execute_input": "2021-03-29T13:38:42.390109Z",
     "iopub.status.busy": "2021-03-29T13:38:42.389421Z",
     "iopub.status.idle": "2021-03-29T13:38:42.392996Z",
     "shell.execute_reply": "2021-03-29T13:38:42.393431Z"
    },
    "papermill": {
     "duration": 0.05067,
     "end_time": "2021-03-29T13:38:42.393552",
     "exception": false,
     "start_time": "2021-03-29T13:38:42.342882",
     "status": "completed"
    },
    "tags": []
   },
   "outputs": [
    {
     "name": "stdout",
     "output_type": "stream",
     "text": [
      "Word index (vocab): \n",
      "{\n",
      "  \"<OOV>\": 1,\n",
      "  \"ai\": 9,\n",
      "  \"amazing\": 5,\n",
      "  \"are\": 3,\n",
      "  \"beautiful\": 6,\n",
      "  \"build\": 8,\n",
      "  \"domination\": 12,\n",
      "  \"for\": 10,\n",
      "  \"global\": 11,\n",
      "  \"let's\": 7,\n",
      "  \"really\": 4,\n",
      "  \"you\": 2\n",
      "}\n",
      "\n",
      "[[2, 3, 4, 5], [2, 3, 4, 1], [1, 1, 1, 1, 1, 1]]\n"
     ]
    }
   ],
   "source": [
    "# Example\n",
    "def tokenizing_example():\n",
    "    sentences = [\n",
    "        'You are really amazing',\n",
    "        'You are really beautiful',\n",
    "        'Let\\'s build AI for global domination!!!'\n",
    "    ]\n",
    "    \n",
    "    tokenizer = Tokenizer(num_words=6, oov_token='<OOV>')\n",
    "    tokenizer.fit_on_texts(sentences)\n",
    "\n",
    "    word_index = tokenizer.word_index\n",
    "    print(f'Word index (vocab): \\n{json.dumps(word_index, indent=2, sort_keys=True)}\\n')\n",
    "    print(tokenizer.texts_to_sequences(sentences))\n",
    "    \n",
    "    \n",
    "tokenizing_example()"
   ]
  },
  {
   "cell_type": "markdown",
   "metadata": {
    "papermill": {
     "duration": 0.040893,
     "end_time": "2021-03-29T13:38:42.475414",
     "exception": false,
     "start_time": "2021-03-29T13:38:42.434521",
     "status": "completed"
    },
    "tags": []
   },
   "source": [
    "No word in 3rd sentence is available in our vocabulary and that's why they are assigned `<OOV>` i.e. `out of vocabulary`.\n",
    "\n",
    "`Tensorflow`'s `Tokenizer` object is very sophisticated as here you don't need to worry about filtering text (or word) and many methods such `word_index` and so on which will make your life easy."
   ]
  },
  {
   "cell_type": "code",
   "execution_count": 18,
   "metadata": {
    "execution": {
     "iopub.execute_input": "2021-03-29T13:38:42.584738Z",
     "iopub.status.busy": "2021-03-29T13:38:42.574442Z",
     "iopub.status.idle": "2021-03-29T13:38:43.290396Z",
     "shell.execute_reply": "2021-03-29T13:38:43.289908Z"
    },
    "papermill": {
     "duration": 0.774346,
     "end_time": "2021-03-29T13:38:43.290495",
     "exception": false,
     "start_time": "2021-03-29T13:38:42.516149",
     "status": "completed"
    },
    "tags": []
   },
   "outputs": [],
   "source": [
    "tokenizer = Tokenizer(num_words=vocab_size, oov_token=oov_token)\n",
    "tokenizer.fit_on_texts(sentences)\n",
    "word_index = tokenizer.word_index"
   ]
  },
  {
   "cell_type": "markdown",
   "metadata": {
    "papermill": {
     "duration": 0.046336,
     "end_time": "2021-03-29T13:38:43.378375",
     "exception": false,
     "start_time": "2021-03-29T13:38:43.332039",
     "status": "completed"
    },
    "tags": []
   },
   "source": [
    "**Setting max length for our sentences**"
   ]
  },
  {
   "cell_type": "code",
   "execution_count": 19,
   "metadata": {
    "execution": {
     "iopub.execute_input": "2021-03-29T13:38:43.484660Z",
     "iopub.status.busy": "2021-03-29T13:38:43.469217Z",
     "iopub.status.idle": "2021-03-29T13:38:43.723907Z",
     "shell.execute_reply": "2021-03-29T13:38:43.724407Z"
    },
    "papermill": {
     "duration": 0.3044,
     "end_time": "2021-03-29T13:38:43.724540",
     "exception": false,
     "start_time": "2021-03-29T13:38:43.420140",
     "status": "completed"
    },
    "tags": []
   },
   "outputs": [
    {
     "data": {
      "image/png": "[encoded data removed]",
      "text/plain": [
       "<Figure size 864x288 with 1 Axes>"
      ]
     },
     "metadata": {
      "needs_background": "light"
     },
     "output_type": "display_data"
    }
   ],
   "source": [
    "headline_word_count = [len(sentence.split()) for sentence in df.headline]\n",
    "headline_word_count[:10]\n",
    "\n",
    "# Analyze the distribution of sequences by looking at the length of the texts\n",
    "pd.DataFrame({'articles': headline_word_count}).hist(\n",
    "    bins=20, figsize=(12, 4), range=[0, 20]\n",
    ")\n",
    "plt.show()"
   ]
  },
  {
   "cell_type": "markdown",
   "metadata": {
    "papermill": {
     "duration": 0.043406,
     "end_time": "2021-03-29T13:38:43.813225",
     "exception": false,
     "start_time": "2021-03-29T13:38:43.769819",
     "status": "completed"
    },
    "tags": []
   },
   "source": [
    "So majority of the `headlines` has `8 to 11` words in them."
   ]
  },
  {
   "cell_type": "code",
   "execution_count": 20,
   "metadata": {
    "execution": {
     "iopub.execute_input": "2021-03-29T13:38:43.902145Z",
     "iopub.status.busy": "2021-03-29T13:38:43.901440Z",
     "iopub.status.idle": "2021-03-29T13:38:43.903903Z",
     "shell.execute_reply": "2021-03-29T13:38:43.904402Z"
    },
    "papermill": {
     "duration": 0.048434,
     "end_time": "2021-03-29T13:38:43.904528",
     "exception": false,
     "start_time": "2021-03-29T13:38:43.856094",
     "status": "completed"
    },
    "tags": []
   },
   "outputs": [],
   "source": [
    "max_length = 11\n",
    "padding_type = 'post'\n",
    "truncating_type = 'post'"
   ]
  },
  {
   "cell_type": "markdown",
   "metadata": {
    "papermill": {
     "duration": 0.042076,
     "end_time": "2021-03-29T13:38:43.989313",
     "exception": false,
     "start_time": "2021-03-29T13:38:43.947237",
     "status": "completed"
    },
    "tags": []
   },
   "source": [
    "As different sentences are of different length, so to make them of a specific length we can do two things `padding` or `truncating` and for these work we can use `Tensorflow`'s `pad_sequences` object."
   ]
  },
  {
   "cell_type": "code",
   "execution_count": 21,
   "metadata": {
    "execution": {
     "iopub.execute_input": "2021-03-29T13:38:44.080986Z",
     "iopub.status.busy": "2021-03-29T13:38:44.080119Z",
     "iopub.status.idle": "2021-03-29T13:38:44.084409Z",
     "shell.execute_reply": "2021-03-29T13:38:44.084012Z"
    },
    "papermill": {
     "duration": 0.053321,
     "end_time": "2021-03-29T13:38:44.084521",
     "exception": false,
     "start_time": "2021-03-29T13:38:44.031200",
     "status": "completed"
    },
    "tags": []
   },
   "outputs": [
    {
     "name": "stdout",
     "output_type": "stream",
     "text": [
      "[[2 3 4 5 0 0]\n",
      " [2 3 4 1 0 0]\n",
      " [1 1 1 1 1 1]]\n"
     ]
    }
   ],
   "source": [
    "# Example\n",
    "def padding_example():\n",
    "    sentences = [\n",
    "        'You are really amazing',\n",
    "        'You are really beautiful',\n",
    "        'Let\\'s build AI for global domination!!!'\n",
    "    ]\n",
    "    \n",
    "    tokenizer = Tokenizer(num_words=6, oov_token='<OOV>')\n",
    "    tokenizer.fit_on_texts(sentences)\n",
    "    \n",
    "    sequences = tokenizer.texts_to_sequences(sentences)\n",
    "    padded = pad_sequences(sequences, maxlen=6, padding='post', truncating='post')\n",
    "    print(padded)\n",
    "    \n",
    "    \n",
    "padding_example()"
   ]
  },
  {
   "cell_type": "markdown",
   "metadata": {
    "papermill": {
     "duration": 0.042023,
     "end_time": "2021-03-29T13:38:44.169398",
     "exception": false,
     "start_time": "2021-03-29T13:38:44.127375",
     "status": "completed"
    },
    "tags": []
   },
   "source": [
    "Here `padding` and `truncating` have two options `pre`(starting) and `post`(end) which specifices from where to do their tasks repectively. Since first two sentences are small so they are padded to `maxlen` i.e. 6 and the number `0` represents that.\n",
    "\n",
    "**Note**: You can also pass `sequences` of various lengths to `neural network`."
   ]
  },
  {
   "cell_type": "code",
   "execution_count": 22,
   "metadata": {
    "execution": {
     "iopub.execute_input": "2021-03-29T13:38:44.319475Z",
     "iopub.status.busy": "2021-03-29T13:38:44.318576Z",
     "iopub.status.idle": "2021-03-29T13:38:45.744447Z",
     "shell.execute_reply": "2021-03-29T13:38:45.743962Z"
    },
    "papermill": {
     "duration": 1.510798,
     "end_time": "2021-03-29T13:38:45.744558",
     "exception": false,
     "start_time": "2021-03-29T13:38:44.233760",
     "status": "completed"
    },
    "tags": []
   },
   "outputs": [
    {
     "data": {
      "text/plain": [
       "array([ 314,  380, 2162, 9179,  257, 6605,  646,    0,    0,    0,    0],\n",
       "      dtype=int32)"
      ]
     },
     "execution_count": 22,
     "metadata": {},
     "output_type": "execute_result"
    }
   ],
   "source": [
    "sequences = tokenizer.texts_to_sequences(sentences)\n",
    "padded = pad_sequences(sequences, maxlen=max_length, padding=padding_type, truncating=truncating_type)\n",
    "padded[0]"
   ]
  },
  {
   "cell_type": "markdown",
   "metadata": {
    "papermill": {
     "duration": 0.048506,
     "end_time": "2021-03-29T13:38:45.837355",
     "exception": false,
     "start_time": "2021-03-29T13:38:45.788849",
     "status": "completed"
    },
    "tags": []
   },
   "source": [
    "## 🧬 Modelling"
   ]
  },
  {
   "cell_type": "markdown",
   "metadata": {
    "papermill": {
     "duration": 0.045381,
     "end_time": "2021-03-29T13:38:45.929819",
     "exception": false,
     "start_time": "2021-03-29T13:38:45.884438",
     "status": "completed"
    },
    "tags": []
   },
   "source": [
    "![](https://media.giphy.com/media/jQUMf03viNBLT8MGH5/giphy.gif)"
   ]
  },
  {
   "cell_type": "markdown",
   "metadata": {
    "papermill": {
     "duration": 0.042872,
     "end_time": "2021-03-29T13:38:46.016302",
     "exception": false,
     "start_time": "2021-03-29T13:38:45.973430",
     "status": "completed"
    },
    "tags": []
   },
   "source": [
    "**Note**: `vocab_size` is also a `hyperparameter` that you can tune to improve results and performance."
   ]
  },
  {
   "cell_type": "code",
   "execution_count": 23,
   "metadata": {
    "execution": {
     "iopub.execute_input": "2021-03-29T13:38:46.143700Z",
     "iopub.status.busy": "2021-03-29T13:38:46.143128Z",
     "iopub.status.idle": "2021-03-29T13:38:48.455153Z",
     "shell.execute_reply": "2021-03-29T13:38:48.454304Z"
    },
    "papermill": {
     "duration": 2.36037,
     "end_time": "2021-03-29T13:38:48.455271",
     "exception": false,
     "start_time": "2021-03-29T13:38:46.094901",
     "status": "completed"
    },
    "tags": []
   },
   "outputs": [],
   "source": [
    "''' Hyperparameters '''\n",
    "\n",
    "embedding_dim = 120\n",
    "optimizer = tf.keras.optimizers.Adam(learning_rate=0.003)\n",
    "loss = 'binary_crossentropy'\n",
    "num_epochs = 20\n",
    "\n",
    "metrics = [\n",
    "    'binary_accuracy', \n",
    "    AUC(curve='ROC', name='auc_roc'), \n",
    "    Precision(name='precision'), \n",
    "    Recall(name='recall')\n",
    "]"
   ]
  },
  {
   "cell_type": "code",
   "execution_count": 24,
   "metadata": {
    "execution": {
     "iopub.execute_input": "2021-03-29T13:38:48.554754Z",
     "iopub.status.busy": "2021-03-29T13:38:48.553413Z",
     "iopub.status.idle": "2021-03-29T13:38:48.556264Z",
     "shell.execute_reply": "2021-03-29T13:38:48.555864Z"
    },
    "papermill": {
     "duration": 0.057525,
     "end_time": "2021-03-29T13:38:48.556351",
     "exception": false,
     "start_time": "2021-03-29T13:38:48.498826",
     "status": "completed"
    },
    "tags": []
   },
   "outputs": [],
   "source": [
    "class CustomCallback(Callback):\n",
    "    def on_epoch_end(self, epoch, logs=None):\n",
    "        precision = logs['precision']\n",
    "        recall = logs['recall']\n",
    "        f1_score = (2 * (precision * recall)) / (precision + recall)\n",
    "        \n",
    "        loss = logs['loss']\n",
    "        binary_accuracy = logs['binary_accuracy']\n",
    "        auc_roc = logs['auc_roc']\n",
    "        \n",
    "        info = {\n",
    "            'loss': round(loss, 5),\n",
    "            'binary_accuracy': round(binary_accuracy, 4),\n",
    "            'auc_roc': round(auc_roc, 4),\n",
    "            'precision': round(precision, 4),\n",
    "            'recall': round(recall, 4),\n",
    "            'f1_score': round(f1_score, 4),\n",
    "        }\n",
    "        \n",
    "        print(f'\\n{json.dumps(info, indent=2)}')\n",
    "        print()\n",
    "\n",
    "        \n",
    "\n",
    "callbacks = [\n",
    "    ReduceLROnPlateau(monitor='val_loss',factor=0.1, patience=2, min_lr=0.000001, verbose=1),\n",
    "    CustomCallback()\n",
    "]"
   ]
  },
  {
   "cell_type": "markdown",
   "metadata": {
    "papermill": {
     "duration": 0.043219,
     "end_time": "2021-03-29T13:38:48.643385",
     "exception": false,
     "start_time": "2021-03-29T13:38:48.600166",
     "status": "completed"
    },
    "tags": []
   },
   "source": [
    "Here I'm using `Flatten` layer instead of `GlobalAveragePooling1D` as it gives slightly better results but is slower as compared to `GlobalAveragePooling1D`."
   ]
  },
  {
   "cell_type": "code",
   "execution_count": 25,
   "metadata": {
    "execution": {
     "iopub.execute_input": "2021-03-29T13:38:48.743647Z",
     "iopub.status.busy": "2021-03-29T13:38:48.742768Z",
     "iopub.status.idle": "2021-03-29T13:38:48.824559Z",
     "shell.execute_reply": "2021-03-29T13:38:48.824095Z"
    },
    "papermill": {
     "duration": 0.137646,
     "end_time": "2021-03-29T13:38:48.824696",
     "exception": false,
     "start_time": "2021-03-29T13:38:48.687050",
     "status": "completed"
    },
    "tags": []
   },
   "outputs": [
    {
     "name": "stdout",
     "output_type": "stream",
     "text": [
      "Model: \"sequential\"\n",
      "_________________________________________________________________\n",
      "Layer (type)                 Output Shape              Param #   \n",
      "=================================================================\n",
      "embedding (Embedding)        (None, 11, 120)           1800000   \n",
      "_________________________________________________________________\n",
      "flatten (Flatten)            (None, 1320)              0         \n",
      "_________________________________________________________________\n",
      "dense (Dense)                (None, 15000)             19815000  \n",
      "_________________________________________________________________\n",
      "dense_1 (Dense)              (None, 1)                 15001     \n",
      "=================================================================\n",
      "Total params: 21,630,001\n",
      "Trainable params: 21,630,001\n",
      "Non-trainable params: 0\n",
      "_________________________________________________________________\n"
     ]
    }
   ],
   "source": [
    "def build_model(vocab_size, embedding_dim, loss, optimizer, metrics):\n",
    "    model = Sequential([\n",
    "        Embedding(vocab_size, embedding_dim, input_length=max_length),\n",
    "        Flatten(),\n",
    "        Dense(vocab_size, activation='relu'),\n",
    "        Dense(1, activation='sigmoid')\n",
    "    ])\n",
    "    \n",
    "    model.compile(loss=loss, optimizer=optimizer, metrics=metrics)\n",
    "    return model\n",
    "\n",
    "\n",
    "model = build_model(vocab_size, embedding_dim, loss, optimizer, metrics)\n",
    "model.summary()"
   ]
  },
  {
   "cell_type": "markdown",
   "metadata": {
    "papermill": {
     "duration": 0.043778,
     "end_time": "2021-03-29T13:38:48.913886",
     "exception": false,
     "start_time": "2021-03-29T13:38:48.870108",
     "status": "completed"
    },
    "tags": []
   },
   "source": [
    "Go to `Settings` and change the `Accelerator` to `GPU` to speed up the learning process."
   ]
  },
  {
   "cell_type": "code",
   "execution_count": 26,
   "metadata": {
    "execution": {
     "iopub.execute_input": "2021-03-29T13:38:49.014867Z",
     "iopub.status.busy": "2021-03-29T13:38:49.014199Z",
     "iopub.status.idle": "2021-03-29T13:47:01.719150Z",
     "shell.execute_reply": "2021-03-29T13:47:01.718371Z"
    },
    "papermill": {
     "duration": 492.761936,
     "end_time": "2021-03-29T13:47:01.719263",
     "exception": false,
     "start_time": "2021-03-29T13:38:48.957327",
     "status": "completed"
    },
    "tags": []
   },
   "outputs": [
    {
     "name": "stdout",
     "output_type": "stream",
     "text": [
      "Epoch 1/20\n",
      "1249/1250 [============================>.] - ETA: 0s - loss: 0.3310 - binary_accuracy: 0.8608 - auc_roc: 0.9354 - precision: 0.8499 - recall: 0.8445\n",
      "{\n",
      "  \"loss\": 0.33099,\n",
      "  \"binary_accuracy\": 0.8609,\n",
      "  \"auc_roc\": 0.9354,\n",
      "  \"precision\": 0.8499,\n",
      "  \"recall\": 0.8445,\n",
      "  \"f1_score\": 0.8472\n",
      "}\n",
      "\n",
      "1250/1250 [==============================] - 25s 20ms/step - loss: 0.3310 - binary_accuracy: 0.8609 - auc_roc: 0.9354 - precision: 0.8499 - recall: 0.8445 - val_loss: 0.2221 - val_binary_accuracy: 0.9169 - val_auc_roc: 0.9747 - val_precision: 0.9439 - val_recall: 0.8739\n",
      "Epoch 2/20\n",
      "1249/1250 [============================>.] - ETA: 0s - loss: 0.0963 - binary_accuracy: 0.9678 - auc_roc: 0.9934 - precision: 0.9653 - recall: 0.9641\n",
      "{\n",
      "  \"loss\": 0.09632,\n",
      "  \"binary_accuracy\": 0.9678,\n",
      "  \"auc_roc\": 0.9934,\n",
      "  \"precision\": 0.9653,\n",
      "  \"recall\": 0.9641,\n",
      "  \"f1_score\": 0.9647\n",
      "}\n",
      "\n",
      "1250/1250 [==============================] - 25s 20ms/step - loss: 0.0963 - binary_accuracy: 0.9678 - auc_roc: 0.9934 - precision: 0.9653 - recall: 0.9641 - val_loss: 0.2405 - val_binary_accuracy: 0.9364 - val_auc_roc: 0.9759 - val_precision: 0.9249 - val_recall: 0.9398\n",
      "Epoch 3/20\n",
      "1250/1250 [==============================] - ETA: 0s - loss: 0.0626 - binary_accuracy: 0.9823 - auc_roc: 0.9962 - precision: 0.9806 - recall: 0.9807\n",
      "Epoch 00003: ReduceLROnPlateau reducing learning rate to 0.00030000000260770325.\n",
      "\n",
      "{\n",
      "  \"loss\": 0.06265,\n",
      "  \"binary_accuracy\": 0.9823,\n",
      "  \"auc_roc\": 0.9962,\n",
      "  \"precision\": 0.9806,\n",
      "  \"recall\": 0.9807,\n",
      "  \"f1_score\": 0.9806\n",
      "}\n",
      "\n",
      "1250/1250 [==============================] - 25s 20ms/step - loss: 0.0626 - binary_accuracy: 0.9823 - auc_roc: 0.9962 - precision: 0.9806 - recall: 0.9807 - val_loss: 0.4181 - val_binary_accuracy: 0.9373 - val_auc_roc: 0.9687 - val_precision: 0.9157 - val_recall: 0.9535\n",
      "Epoch 4/20\n",
      "1249/1250 [============================>.] - ETA: 0s - loss: 0.0160 - binary_accuracy: 0.9958 - auc_roc: 0.9993 - precision: 0.9954 - recall: 0.9953\n",
      "{\n",
      "  \"loss\": 0.01601,\n",
      "  \"binary_accuracy\": 0.9958,\n",
      "  \"auc_roc\": 0.9993,\n",
      "  \"precision\": 0.9954,\n",
      "  \"recall\": 0.9953,\n",
      "  \"f1_score\": 0.9954\n",
      "}\n",
      "\n",
      "1250/1250 [==============================] - 24s 20ms/step - loss: 0.0160 - binary_accuracy: 0.9958 - auc_roc: 0.9993 - precision: 0.9954 - recall: 0.9953 - val_loss: 0.3578 - val_binary_accuracy: 0.9508 - val_auc_roc: 0.9727 - val_precision: 0.9513 - val_recall: 0.9429\n",
      "Epoch 5/20\n",
      "1250/1250 [==============================] - ETA: 0s - loss: 0.0016 - binary_accuracy: 0.9997 - auc_roc: 1.0000 - precision: 0.9997 - recall: 0.9997\n",
      "Epoch 00005: ReduceLROnPlateau reducing learning rate to 3.000000142492354e-05.\n",
      "\n",
      "{\n",
      "  \"loss\": 0.00163,\n",
      "  \"binary_accuracy\": 0.9997,\n",
      "  \"auc_roc\": 1.0,\n",
      "  \"precision\": 0.9997,\n",
      "  \"recall\": 0.9997,\n",
      "  \"f1_score\": 0.9997\n",
      "}\n",
      "\n",
      "1250/1250 [==============================] - 25s 20ms/step - loss: 0.0016 - binary_accuracy: 0.9997 - auc_roc: 1.0000 - precision: 0.9997 - recall: 0.9997 - val_loss: 0.3955 - val_binary_accuracy: 0.9512 - val_auc_roc: 0.9708 - val_precision: 0.9527 - val_recall: 0.9423\n",
      "Epoch 6/20\n",
      "1248/1250 [============================>.] - ETA: 0s - loss: 6.7703e-04 - binary_accuracy: 0.9999 - auc_roc: 1.0000 - precision: 0.9998 - recall: 0.9999\n",
      "{\n",
      "  \"loss\": 0.00068,\n",
      "  \"binary_accuracy\": 0.9999,\n",
      "  \"auc_roc\": 1.0,\n",
      "  \"precision\": 0.9998,\n",
      "  \"recall\": 0.9999,\n",
      "  \"f1_score\": 0.9999\n",
      "}\n",
      "\n",
      "1250/1250 [==============================] - 24s 19ms/step - loss: 6.7658e-04 - binary_accuracy: 0.9999 - auc_roc: 1.0000 - precision: 0.9998 - recall: 0.9999 - val_loss: 0.3998 - val_binary_accuracy: 0.9514 - val_auc_roc: 0.9705 - val_precision: 0.9535 - val_recall: 0.9417\n",
      "Epoch 7/20\n",
      "1249/1250 [============================>.] - ETA: 0s - loss: 6.0254e-04 - binary_accuracy: 0.9999 - auc_roc: 1.0000 - precision: 0.9998 - recall: 0.9999\n",
      "Epoch 00007: ReduceLROnPlateau reducing learning rate to 3.000000106112566e-06.\n",
      "\n",
      "{\n",
      "  \"loss\": 0.0006,\n",
      "  \"binary_accuracy\": 0.9999,\n",
      "  \"auc_roc\": 1.0,\n",
      "  \"precision\": 0.9998,\n",
      "  \"recall\": 0.9999,\n",
      "  \"f1_score\": 0.9999\n",
      "}\n",
      "\n",
      "1250/1250 [==============================] - 25s 20ms/step - loss: 6.0247e-04 - binary_accuracy: 0.9999 - auc_roc: 1.0000 - precision: 0.9998 - recall: 0.9999 - val_loss: 0.4057 - val_binary_accuracy: 0.9511 - val_auc_roc: 0.9705 - val_precision: 0.9530 - val_recall: 0.9417\n",
      "Epoch 8/20\n",
      "1249/1250 [============================>.] - ETA: 0s - loss: 5.2512e-04 - binary_accuracy: 0.9999 - auc_roc: 1.0000 - precision: 0.9998 - recall: 0.9999\n",
      "{\n",
      "  \"loss\": 0.00053,\n",
      "  \"binary_accuracy\": 0.9999,\n",
      "  \"auc_roc\": 1.0,\n",
      "  \"precision\": 0.9998,\n",
      "  \"recall\": 0.9999,\n",
      "  \"f1_score\": 0.9999\n",
      "}\n",
      "\n",
      "1250/1250 [==============================] - 25s 20ms/step - loss: 5.2506e-04 - binary_accuracy: 0.9999 - auc_roc: 1.0000 - precision: 0.9998 - recall: 0.9999 - val_loss: 0.4068 - val_binary_accuracy: 0.9512 - val_auc_roc: 0.9704 - val_precision: 0.9535 - val_recall: 0.9414\n",
      "Epoch 9/20\n",
      "1250/1250 [==============================] - ETA: 0s - loss: 5.1298e-04 - binary_accuracy: 0.9999 - auc_roc: 1.0000 - precision: 0.9998 - recall: 0.9999\n",
      "Epoch 00009: ReduceLROnPlateau reducing learning rate to 1e-06.\n",
      "\n",
      "{\n",
      "  \"loss\": 0.00051,\n",
      "  \"binary_accuracy\": 0.9999,\n",
      "  \"auc_roc\": 1.0,\n",
      "  \"precision\": 0.9998,\n",
      "  \"recall\": 0.9999,\n",
      "  \"f1_score\": 0.9999\n",
      "}\n",
      "\n",
      "1250/1250 [==============================] - 25s 20ms/step - loss: 5.1298e-04 - binary_accuracy: 0.9999 - auc_roc: 1.0000 - precision: 0.9998 - recall: 0.9999 - val_loss: 0.4082 - val_binary_accuracy: 0.9512 - val_auc_roc: 0.9699 - val_precision: 0.9538 - val_recall: 0.9411\n",
      "Epoch 10/20\n",
      "1249/1250 [============================>.] - ETA: 0s - loss: 4.9992e-04 - binary_accuracy: 0.9999 - auc_roc: 1.0000 - precision: 0.9999 - recall: 0.9999\n",
      "{\n",
      "  \"loss\": 0.0005,\n",
      "  \"binary_accuracy\": 0.9999,\n",
      "  \"auc_roc\": 1.0,\n",
      "  \"precision\": 0.9999,\n",
      "  \"recall\": 0.9999,\n",
      "  \"f1_score\": 0.9999\n",
      "}\n",
      "\n",
      "1250/1250 [==============================] - 23s 19ms/step - loss: 4.9999e-04 - binary_accuracy: 0.9999 - auc_roc: 1.0000 - precision: 0.9999 - recall: 0.9999 - val_loss: 0.4088 - val_binary_accuracy: 0.9512 - val_auc_roc: 0.9699 - val_precision: 0.9538 - val_recall: 0.9411\n",
      "Epoch 11/20\n",
      "1250/1250 [==============================] - ETA: 0s - loss: 4.9400e-04 - binary_accuracy: 0.9999 - auc_roc: 1.0000 - precision: 0.9999 - recall: 0.9999\n",
      "{\n",
      "  \"loss\": 0.00049,\n",
      "  \"binary_accuracy\": 0.9999,\n",
      "  \"auc_roc\": 1.0,\n",
      "  \"precision\": 0.9999,\n",
      "  \"recall\": 0.9999,\n",
      "  \"f1_score\": 0.9999\n",
      "}\n",
      "\n",
      "1250/1250 [==============================] - 25s 20ms/step - loss: 4.9400e-04 - binary_accuracy: 0.9999 - auc_roc: 1.0000 - precision: 0.9999 - recall: 0.9999 - val_loss: 0.4095 - val_binary_accuracy: 0.9512 - val_auc_roc: 0.9699 - val_precision: 0.9538 - val_recall: 0.9411\n",
      "Epoch 12/20\n",
      "1248/1250 [============================>.] - ETA: 0s - loss: 4.8736e-04 - binary_accuracy: 0.9999 - auc_roc: 1.0000 - precision: 0.9999 - recall: 0.9999\n",
      "{\n",
      "  \"loss\": 0.00049,\n",
      "  \"binary_accuracy\": 0.9999,\n",
      "  \"auc_roc\": 1.0,\n",
      "  \"precision\": 0.9999,\n",
      "  \"recall\": 0.9999,\n",
      "  \"f1_score\": 0.9999\n",
      "}\n",
      "\n",
      "1250/1250 [==============================] - 25s 20ms/step - loss: 4.8713e-04 - binary_accuracy: 0.9999 - auc_roc: 1.0000 - precision: 0.9999 - recall: 0.9999 - val_loss: 0.4104 - val_binary_accuracy: 0.9512 - val_auc_roc: 0.9699 - val_precision: 0.9538 - val_recall: 0.9411\n",
      "Epoch 13/20\n",
      "1248/1250 [============================>.] - ETA: 0s - loss: 4.8020e-04 - binary_accuracy: 0.9999 - auc_roc: 1.0000 - precision: 0.9999 - recall: 0.9999\n",
      "{\n",
      "  \"loss\": 0.00048,\n",
      "  \"binary_accuracy\": 0.9999,\n",
      "  \"auc_roc\": 1.0,\n",
      "  \"precision\": 0.9999,\n",
      "  \"recall\": 0.9999,\n",
      "  \"f1_score\": 0.9999\n",
      "}\n",
      "\n",
      "1250/1250 [==============================] - 23s 19ms/step - loss: 4.7981e-04 - binary_accuracy: 0.9999 - auc_roc: 1.0000 - precision: 0.9999 - recall: 0.9999 - val_loss: 0.4113 - val_binary_accuracy: 0.9512 - val_auc_roc: 0.9699 - val_precision: 0.9538 - val_recall: 0.9411\n",
      "Epoch 14/20\n",
      "1250/1250 [==============================] - ETA: 0s - loss: 4.7260e-04 - binary_accuracy: 0.9999 - auc_roc: 1.0000 - precision: 0.9999 - recall: 0.9999\n",
      "{\n",
      "  \"loss\": 0.00047,\n",
      "  \"binary_accuracy\": 0.9999,\n",
      "  \"auc_roc\": 1.0,\n",
      "  \"precision\": 0.9999,\n",
      "  \"recall\": 0.9999,\n",
      "  \"f1_score\": 0.9999\n",
      "}\n",
      "\n",
      "1250/1250 [==============================] - 25s 20ms/step - loss: 4.7260e-04 - binary_accuracy: 0.9999 - auc_roc: 1.0000 - precision: 0.9999 - recall: 0.9999 - val_loss: 0.4122 - val_binary_accuracy: 0.9511 - val_auc_roc: 0.9699 - val_precision: 0.9538 - val_recall: 0.9407\n",
      "Epoch 15/20\n",
      "1248/1250 [============================>.] - ETA: 0s - loss: 4.6557e-04 - binary_accuracy: 0.9999 - auc_roc: 1.0000 - precision: 0.9999 - recall: 0.9999\n",
      "{\n",
      "  \"loss\": 0.00047,\n",
      "  \"binary_accuracy\": 0.9999,\n",
      "  \"auc_roc\": 1.0,\n",
      "  \"precision\": 0.9999,\n",
      "  \"recall\": 0.9999,\n",
      "  \"f1_score\": 0.9999\n",
      "}\n",
      "\n",
      "1250/1250 [==============================] - 25s 20ms/step - loss: 4.6528e-04 - binary_accuracy: 0.9999 - auc_roc: 1.0000 - precision: 0.9999 - recall: 0.9999 - val_loss: 0.4132 - val_binary_accuracy: 0.9512 - val_auc_roc: 0.9699 - val_precision: 0.9538 - val_recall: 0.9411\n",
      "Epoch 16/20\n",
      "1248/1250 [============================>.] - ETA: 0s - loss: 4.5844e-04 - binary_accuracy: 0.9999 - auc_roc: 1.0000 - precision: 0.9999 - recall: 0.9999\n",
      "{\n",
      "  \"loss\": 0.00046,\n",
      "  \"binary_accuracy\": 0.9999,\n",
      "  \"auc_roc\": 1.0,\n",
      "  \"precision\": 0.9999,\n",
      "  \"recall\": 0.9999,\n",
      "  \"f1_score\": 0.9999\n",
      "}\n",
      "\n",
      "1250/1250 [==============================] - 25s 20ms/step - loss: 4.5812e-04 - binary_accuracy: 0.9999 - auc_roc: 1.0000 - precision: 0.9999 - recall: 0.9999 - val_loss: 0.4141 - val_binary_accuracy: 0.9512 - val_auc_roc: 0.9700 - val_precision: 0.9538 - val_recall: 0.9411\n",
      "Epoch 17/20\n",
      "1248/1250 [============================>.] - ETA: 0s - loss: 4.5167e-04 - binary_accuracy: 0.9999 - auc_roc: 1.0000 - precision: 0.9999 - recall: 0.9999\n",
      "{\n",
      "  \"loss\": 0.00045,\n",
      "  \"binary_accuracy\": 0.9999,\n",
      "  \"auc_roc\": 1.0,\n",
      "  \"precision\": 0.9999,\n",
      "  \"recall\": 0.9999,\n",
      "  \"f1_score\": 0.9999\n",
      "}\n",
      "\n",
      "1250/1250 [==============================] - 24s 19ms/step - loss: 4.5128e-04 - binary_accuracy: 0.9999 - auc_roc: 1.0000 - precision: 0.9999 - recall: 0.9999 - val_loss: 0.4151 - val_binary_accuracy: 0.9512 - val_auc_roc: 0.9699 - val_precision: 0.9538 - val_recall: 0.9411\n",
      "Epoch 18/20\n",
      "1248/1250 [============================>.] - ETA: 0s - loss: 4.4465e-04 - binary_accuracy: 0.9999 - auc_roc: 1.0000 - precision: 0.9999 - recall: 0.9999\n",
      "{\n",
      "  \"loss\": 0.00044,\n",
      "  \"binary_accuracy\": 0.9999,\n",
      "  \"auc_roc\": 1.0,\n",
      "  \"precision\": 0.9999,\n",
      "  \"recall\": 0.9999,\n",
      "  \"f1_score\": 0.9999\n",
      "}\n",
      "\n",
      "1250/1250 [==============================] - 25s 20ms/step - loss: 4.4444e-04 - binary_accuracy: 0.9999 - auc_roc: 1.0000 - precision: 0.9999 - recall: 0.9999 - val_loss: 0.4161 - val_binary_accuracy: 0.9512 - val_auc_roc: 0.9699 - val_precision: 0.9538 - val_recall: 0.9411\n",
      "Epoch 19/20\n",
      "1250/1250 [==============================] - ETA: 0s - loss: 4.3764e-04 - binary_accuracy: 0.9999 - auc_roc: 1.0000 - precision: 0.9999 - recall: 0.9999\n",
      "{\n",
      "  \"loss\": 0.00044,\n",
      "  \"binary_accuracy\": 0.9999,\n",
      "  \"auc_roc\": 1.0,\n",
      "  \"precision\": 0.9999,\n",
      "  \"recall\": 0.9999,\n",
      "  \"f1_score\": 0.9999\n",
      "}\n",
      "\n",
      "1250/1250 [==============================] - 25s 20ms/step - loss: 4.3764e-04 - binary_accuracy: 0.9999 - auc_roc: 1.0000 - precision: 0.9999 - recall: 0.9999 - val_loss: 0.4170 - val_binary_accuracy: 0.9511 - val_auc_roc: 0.9699 - val_precision: 0.9538 - val_recall: 0.9407\n",
      "Epoch 20/20\n",
      "1248/1250 [============================>.] - ETA: 0s - loss: 4.3126e-04 - binary_accuracy: 0.9999 - auc_roc: 1.0000 - precision: 0.9999 - recall: 0.9999\n",
      "{\n",
      "  \"loss\": 0.00043,\n",
      "  \"binary_accuracy\": 0.9999,\n",
      "  \"auc_roc\": 1.0,\n",
      "  \"precision\": 0.9999,\n",
      "  \"recall\": 0.9999,\n",
      "  \"f1_score\": 0.9999\n",
      "}\n",
      "\n",
      "1250/1250 [==============================] - 24s 19ms/step - loss: 4.3108e-04 - binary_accuracy: 0.9999 - auc_roc: 1.0000 - precision: 0.9999 - recall: 0.9999 - val_loss: 0.4179 - val_binary_accuracy: 0.9511 - val_auc_roc: 0.9698 - val_precision: 0.9538 - val_recall: 0.9407\n"
     ]
    }
   ],
   "source": [
    "history = model.fit(\n",
    "    padded, np.array(y), \n",
    "    epochs=num_epochs,\n",
    "    validation_split=0.15, \n",
    "    callbacks=callbacks,\n",
    "    verbose=1\n",
    ")"
   ]
  },
  {
   "cell_type": "markdown",
   "metadata": {
    "papermill": {
     "duration": 2.370954,
     "end_time": "2021-03-29T13:47:06.501529",
     "exception": false,
     "start_time": "2021-03-29T13:47:04.130575",
     "status": "completed"
    },
    "tags": []
   },
   "source": [
    "**Plotting model's performance**"
   ]
  },
  {
   "cell_type": "code",
   "execution_count": 27,
   "metadata": {
    "execution": {
     "iopub.execute_input": "2021-03-29T13:47:11.606910Z",
     "iopub.status.busy": "2021-03-29T13:47:11.606000Z",
     "iopub.status.idle": "2021-03-29T13:47:11.749054Z",
     "shell.execute_reply": "2021-03-29T13:47:11.749468Z"
    },
    "papermill": {
     "duration": 2.831334,
     "end_time": "2021-03-29T13:47:11.749600",
     "exception": false,
     "start_time": "2021-03-29T13:47:08.918266",
     "status": "completed"
    },
    "tags": []
   },
   "outputs": [
    {
     "data": {
      "text/plain": [
       "<matplotlib.legend.Legend at 0x7fa0573a6ed0>"
      ]
     },
     "execution_count": 27,
     "metadata": {},
     "output_type": "execute_result"
    },
    {
     "data": {
      "image/png": "[encoded data removed]",
      "text/plain": [
       "<Figure size 432x288 with 1 Axes>"
      ]
     },
     "metadata": {
      "needs_background": "light"
     },
     "output_type": "display_data"
    }
   ],
   "source": [
    "# Accuracy\n",
    "\n",
    "plt.plot(history.history['binary_accuracy'][1:], label='train acc')\n",
    "plt.plot(history.history['val_binary_accuracy'][1:], label='validation acc')\n",
    "plt.xlabel('Epoch')\n",
    "plt.ylabel('Binary Accuracy')\n",
    "plt.legend(loc='lower right')"
   ]
  },
  {
   "cell_type": "code",
   "execution_count": 28,
   "metadata": {
    "execution": {
     "iopub.execute_input": "2021-03-29T13:47:16.593725Z",
     "iopub.status.busy": "2021-03-29T13:47:16.592378Z",
     "iopub.status.idle": "2021-03-29T13:47:16.722159Z",
     "shell.execute_reply": "2021-03-29T13:47:16.722586Z"
    },
    "papermill": {
     "duration": 2.580013,
     "end_time": "2021-03-29T13:47:16.722705",
     "exception": false,
     "start_time": "2021-03-29T13:47:14.142692",
     "status": "completed"
    },
    "tags": []
   },
   "outputs": [
    {
     "data": {
      "text/plain": [
       "<matplotlib.legend.Legend at 0x7fa056ebaf50>"
      ]
     },
     "execution_count": 28,
     "metadata": {},
     "output_type": "execute_result"
    },
    {
     "data": {
      "image/png": "[encoded data removed]",
      "text/plain": [
       "<Figure size 432x288 with 1 Axes>"
      ]
     },
     "metadata": {
      "needs_background": "light"
     },
     "output_type": "display_data"
    }
   ],
   "source": [
    "# Loss\n",
    "\n",
    "plt.plot(history.history['loss'][1:], label='train loss')\n",
    "plt.plot(history.history['val_loss'][1:], label='validation loss')\n",
    "plt.xlabel('Epoch')\n",
    "plt.ylabel('Loss')\n",
    "plt.legend(loc='lower right')"
   ]
  },
  {
   "cell_type": "markdown",
   "metadata": {
    "papermill": {
     "duration": 2.613535,
     "end_time": "2021-03-29T13:47:21.758444",
     "exception": false,
     "start_time": "2021-03-29T13:47:19.144909",
     "status": "completed"
    },
    "tags": []
   },
   "source": [
    "For `visualizing embeddings` we can use [Tensorflow Projector](https://projector.tensorflow.org/) and projector look like below image. ![](https://www.tensorflow.org/tensorboard/images/embedding_projector.png?raw=1)"
   ]
  },
  {
   "cell_type": "code",
   "execution_count": 29,
   "metadata": {
    "execution": {
     "iopub.execute_input": "2021-03-29T13:47:26.676070Z",
     "iopub.status.busy": "2021-03-29T13:47:26.675035Z",
     "iopub.status.idle": "2021-03-29T13:47:28.186037Z",
     "shell.execute_reply": "2021-03-29T13:47:28.184995Z"
    },
    "papermill": {
     "duration": 3.973637,
     "end_time": "2021-03-29T13:47:28.186155",
     "exception": false,
     "start_time": "2021-03-29T13:47:24.212518",
     "status": "completed"
    },
    "tags": []
   },
   "outputs": [
    {
     "name": "stdout",
     "output_type": "stream",
     "text": [
      "(15000, 120)\n"
     ]
    }
   ],
   "source": [
    "# Getting weights of our embedding layer\n",
    "embedding_layer = model.layers[0]\n",
    "embedding_layer_weigths = embedding_layer.get_weights()[0]\n",
    "print(embedding_layer_weigths.shape)\n",
    "\n",
    "# Reversing the `word_index`\n",
    "reverse_word_index = {value: key for key, value in word_index.items()}\n",
    "\n",
    "# Writing vectors and their meta data which when entered to Tensorflow Project,\n",
    "# it will display our Word Embedding\n",
    "out_vectors = io.open('vecs.tsv', 'w', encoding='utf-8')\n",
    "out_metadata = io.open('meta.tsv', 'w', encoding='utf-8')\n",
    "# Skipping over the first word in vocabulary which is '<OOV>' (if set oov_token parameter set then)\n",
    "for word_num in range(1, vocab_size):\n",
    "    words = reverse_word_index[word_num]\n",
    "    embeddings = embedding_layer_weigths[word_num]\n",
    "    out_metadata.write(words + '\\n')\n",
    "    out_vectors.write('\\t'.join([str(x) for x in embeddings]) + '\\n')\n",
    "out_vectors.close()\n",
    "out_metadata.close()"
   ]
  },
  {
   "cell_type": "markdown",
   "metadata": {
    "papermill": {
     "duration": 3.145402,
     "end_time": "2021-03-29T13:47:33.759143",
     "exception": false,
     "start_time": "2021-03-29T13:47:30.613741",
     "status": "completed"
    },
    "tags": []
   },
   "source": [
    "The first value of the above output is the `vocab_size` and second value is the `embedding_dim`. If you are going to work in `Google Colab` then below code will do the job of saving `vectors` and `metadata` easily."
   ]
  },
  {
   "cell_type": "code",
   "execution_count": 30,
   "metadata": {
    "execution": {
     "iopub.execute_input": "2021-03-29T13:47:38.663276Z",
     "iopub.status.busy": "2021-03-29T13:47:38.661529Z",
     "iopub.status.idle": "2021-03-29T13:47:38.663870Z",
     "shell.execute_reply": "2021-03-29T13:47:38.664276Z"
    },
    "papermill": {
     "duration": 2.471299,
     "end_time": "2021-03-29T13:47:38.664386",
     "exception": false,
     "start_time": "2021-03-29T13:47:36.193087",
     "status": "completed"
    },
    "tags": []
   },
   "outputs": [],
   "source": [
    "try:\n",
    "    from google.colab import files\n",
    "except ImportError:\n",
    "    pass\n",
    "else:\n",
    "    files.download('vecs.tsv')\n",
    "    files.download('meta.tsv')  \n",
    "    \n",
    "    print('Downloaded!!!')"
   ]
  },
  {
   "cell_type": "markdown",
   "metadata": {
    "papermill": {
     "duration": 2.630959,
     "end_time": "2021-03-29T13:47:43.739508",
     "exception": false,
     "start_time": "2021-03-29T13:47:41.108549",
     "status": "completed"
    },
    "tags": []
   },
   "source": [
    "## **🔮 Evaluation**"
   ]
  },
  {
   "cell_type": "markdown",
   "metadata": {
    "papermill": {
     "duration": 2.377393,
     "end_time": "2021-03-29T13:47:48.598734",
     "exception": false,
     "start_time": "2021-03-29T13:47:46.221341",
     "status": "completed"
    },
    "tags": []
   },
   "source": [
    "![](https://media.giphy.com/media/3o6MbkuhWMQd4OajSg/giphy.gif)"
   ]
  },
  {
   "cell_type": "markdown",
   "metadata": {
    "papermill": {
     "duration": 2.381711,
     "end_time": "2021-03-29T13:47:53.420772",
     "exception": false,
     "start_time": "2021-03-29T13:47:51.039061",
     "status": "completed"
    },
    "tags": []
   },
   "source": [
    "For `predicting` or `evaluation` always use the `tokenizer` and `hyperparameter` like `turncating_type`, `max_len` and so on which was used while training."
   ]
  },
  {
   "cell_type": "code",
   "execution_count": 31,
   "metadata": {
    "execution": {
     "iopub.execute_input": "2021-03-29T13:47:58.562096Z",
     "iopub.status.busy": "2021-03-29T13:47:58.557055Z",
     "iopub.status.idle": "2021-03-29T13:47:58.686316Z",
     "shell.execute_reply": "2021-03-29T13:47:58.685881Z"
    },
    "papermill": {
     "duration": 2.595356,
     "end_time": "2021-03-29T13:47:58.686415",
     "exception": false,
     "start_time": "2021-03-29T13:47:56.091059",
     "status": "completed"
    },
    "tags": []
   },
   "outputs": [],
   "source": [
    "tokenizer.fit_on_texts(x_test.headline.tolist())"
   ]
  },
  {
   "cell_type": "code",
   "execution_count": 32,
   "metadata": {
    "execution": {
     "iopub.execute_input": "2021-03-29T13:48:03.538925Z",
     "iopub.status.busy": "2021-03-29T13:48:03.523558Z",
     "iopub.status.idle": "2021-03-29T13:48:03.654931Z",
     "shell.execute_reply": "2021-03-29T13:48:03.654448Z"
    },
    "papermill": {
     "duration": 2.581696,
     "end_time": "2021-03-29T13:48:03.655025",
     "exception": false,
     "start_time": "2021-03-29T13:48:01.073329",
     "status": "completed"
    },
    "tags": []
   },
   "outputs": [],
   "source": [
    "x_test_sequences = tokenizer.texts_to_sequences(x_test.headline.tolist())\n",
    "x_test_padded = pad_sequences(x_test_sequences, maxlen=max_length, padding=padding_type, truncating=truncating_type)\n",
    "\n",
    "y_test_list = np.array(y_test.is_sarcastic.tolist())"
   ]
  },
  {
   "cell_type": "code",
   "execution_count": 33,
   "metadata": {
    "execution": {
     "iopub.execute_input": "2021-03-29T13:48:08.760379Z",
     "iopub.status.busy": "2021-03-29T13:48:08.759459Z",
     "iopub.status.idle": "2021-03-29T13:48:09.665452Z",
     "shell.execute_reply": "2021-03-29T13:48:09.664064Z"
    },
    "papermill": {
     "duration": 3.323078,
     "end_time": "2021-03-29T13:48:09.665621",
     "exception": false,
     "start_time": "2021-03-29T13:48:06.342543",
     "status": "completed"
    },
    "tags": []
   },
   "outputs": [
    {
     "name": "stdout",
     "output_type": "stream",
     "text": [
      "260/260 [==============================] - 1s 3ms/step - loss: 3.7269 - binary_accuracy: 0.6295 - auc_roc: 0.6563 - precision: 0.5981 - recall: 0.5886\n",
      "{\n",
      "  \"binary_accuracy\": 0.6295,\n",
      "  \"auc_roc\": 0.6563,\n",
      "  \"precision\": 0.5981,\n",
      "  \"recall\": 0.5886,\n",
      "  \"f1_score\": 0.5933\n",
      "}\n"
     ]
    }
   ],
   "source": [
    "# evaluating on testing data\n",
    "_, binary_acc, auc_roc, precision, recall = model.evaluate(x_test_padded, y_test_list)\n",
    "test_metrics_info = {\n",
    "    'binary_accuracy': round(binary_acc, 4),\n",
    "    'auc_roc': round(auc_roc, 4),\n",
    "    'precision': round(precision, 4),\n",
    "    'recall': round(recall, 4),\n",
    "    'f1_score': round((2 * (precision * recall)) / (precision + recall), 4)\n",
    "}\n",
    "\n",
    "print(json.dumps(test_metrics_info, indent=2))"
   ]
  },
  {
   "cell_type": "code",
   "execution_count": 34,
   "metadata": {
    "execution": {
     "iopub.execute_input": "2021-03-29T13:48:14.964282Z",
     "iopub.status.busy": "2021-03-29T13:48:14.963396Z",
     "iopub.status.idle": "2021-03-29T13:48:15.307291Z",
     "shell.execute_reply": "2021-03-29T13:48:15.308451Z"
    },
    "papermill": {
     "duration": 2.771455,
     "end_time": "2021-03-29T13:48:15.308665",
     "exception": false,
     "start_time": "2021-03-29T13:48:12.537210",
     "status": "completed"
    },
    "tags": []
   },
   "outputs": [
    {
     "name": "stdout",
     "output_type": "stream",
     "text": [
      "# 1 Headline: these simple facebook shortcuts will save you time\n",
      "Prediction: [0]\n",
      "Actual: 0\n",
      "\n",
      "# 2 Headline: local burger feels especially disgusting today\n",
      "Prediction: [1]\n",
      "Actual: 1\n",
      "\n",
      "# 3 Headline: nobody keeps baby from the corner\n",
      "Prediction: [1]\n",
      "Actual: 0\n",
      "\n",
      "# 4 Headline: sick of light pollution head to national park study says.\n",
      "Prediction: [1]\n",
      "Actual: 0\n",
      "\n",
      "# 5 Headline: the truth about water as hangover prevention\n",
      "Prediction: [0]\n",
      "Actual: 0\n",
      "\n",
      "# 6 Headline: gabrielle union on the #metoo movthement the floodgates have opened for white women\n",
      "Prediction: [0]\n",
      "Actual: 0\n",
      "\n",
      "# 7 Headline: the best fictional holidays from television\n",
      "Prediction: [0]\n",
      "Actual: 0\n",
      "\n",
      "# 8 Headline: more latinos seek citizenship to vote against trump\n",
      "Prediction: [0]\n",
      "Actual: 0\n",
      "\n",
      "# 9 Headline: coloradofs new revenge porn statute is good law and sound policy\n",
      "Prediction: [0]\n",
      "Actual: 0\n",
      "\n",
      "# 10 Headline: not sure what an apple watch is for try these 12 apps\n",
      "Prediction: [0]\n",
      "Actual: 0\n",
      "\n"
     ]
    }
   ],
   "source": [
    "# predictions\n",
    "predictions = model.predict_classes(x_test_padded)\n",
    "for i in range(10):\n",
    "    print(f'# {i+1} Headline: {x_test.iloc[i].values[0]}')\n",
    "    print(f'Prediction: {predictions[i]}')\n",
    "    print(f'Actual: { y_test.iloc[i].values[0]}')\n",
    "    print()"
   ]
  },
  {
   "cell_type": "code",
   "execution_count": 35,
   "metadata": {
    "execution": {
     "iopub.execute_input": "2021-03-29T13:48:20.400568Z",
     "iopub.status.busy": "2021-03-29T13:48:20.399674Z",
     "iopub.status.idle": "2021-03-29T13:48:20.438174Z",
     "shell.execute_reply": "2021-03-29T13:48:20.438781Z"
    },
    "papermill": {
     "duration": 2.487681,
     "end_time": "2021-03-29T13:48:20.438960",
     "exception": false,
     "start_time": "2021-03-29T13:48:17.951279",
     "status": "completed"
    },
    "tags": []
   },
   "outputs": [
    {
     "name": "stdout",
     "output_type": "stream",
     "text": [
      "[[0]\n",
      " [0]\n",
      " [1]\n",
      " [0]\n",
      " [0]]\n"
     ]
    }
   ],
   "source": [
    "# Testing on unseen data\n",
    "\n",
    "sentences = [\n",
    "    'The whether today is bright and sunny.',\n",
    "    'Not all men are annoying. Some are dead.',\n",
    "    'yellowstone park attempts to increase ranger population with new mating program',\n",
    "    'If you’re going to tell people the truth, be funny or they’ll kill you.',\n",
    "    'He who laughs last didn’t get the joke'\n",
    "]\n",
    "\n",
    "sequences = tokenizer.texts_to_sequences(sentences)\n",
    "padded = pad_sequences(sequences, maxlen=max_length, padding=padding_type, truncating=truncating_type)\n",
    "\n",
    "predictions = model.predict_classes(padded)\n",
    "print(predictions)"
   ]
  },
  {
   "cell_type": "markdown",
   "metadata": {
    "papermill": {
     "duration": 2.420064,
     "end_time": "2021-03-29T13:48:25.245283",
     "exception": false,
     "start_time": "2021-03-29T13:48:22.825219",
     "status": "completed"
    },
    "tags": []
   },
   "source": [
    "## 🎁 Saving the model"
   ]
  },
  {
   "cell_type": "code",
   "execution_count": 36,
   "metadata": {
    "execution": {
     "iopub.execute_input": "2021-03-29T13:48:30.301460Z",
     "iopub.status.busy": "2021-03-29T13:48:30.300638Z",
     "iopub.status.idle": "2021-03-29T13:48:31.413706Z",
     "shell.execute_reply": "2021-03-29T13:48:31.414460Z"
    },
    "papermill": {
     "duration": 3.515237,
     "end_time": "2021-03-29T13:48:31.414669",
     "exception": false,
     "start_time": "2021-03-29T13:48:27.899432",
     "status": "completed"
    },
    "tags": []
   },
   "outputs": [],
   "source": [
    "model.save('model')"
   ]
  },
  {
   "cell_type": "markdown",
   "metadata": {
    "papermill": {
     "duration": 2.387825,
     "end_time": "2021-03-29T13:48:36.246155",
     "exception": false,
     "start_time": "2021-03-29T13:48:33.858330",
     "status": "completed"
    },
    "tags": []
   },
   "source": [
    "---"
   ]
  },
  {
   "cell_type": "markdown",
   "metadata": {
    "papermill": {
     "duration": 2.504389,
     "end_time": "2021-03-29T13:48:41.386433",
     "exception": false,
     "start_time": "2021-03-29T13:48:38.882044",
     "status": "completed"
    },
    "tags": []
   },
   "source": [
    "If this kernel helped you then don't forget to 👍 `like` and share your 🎙 `feedback`.\n",
    "\n",
    "![](https://media.giphy.com/media/Yc8Vb9KRvExa/giphy.gif)\n",
    "\n",
    "And this is how a `recursion` works.\n",
    "\n",
    "---"
   ]
  }
 ],
 "metadata": {
  "kernelspec": {
   "display_name": "Python 3",
   "language": "python",
   "name": "python3"
  },
  "language_info": {
   "codemirror_mode": {
    "name": "ipython",
    "version": 3
   },
   "file_extension": ".py",
   "mimetype": "text/x-python",
   "name": "python",
   "nbconvert_exporter": "python",
   "pygments_lexer": "ipython3",
   "version": "3.7.6"
  },
  "papermill": {
   "duration": 633.256918,
   "end_time": "2021-03-29T13:48:45.819437",
   "environment_variables": {},
   "exception": null,
   "input_path": "__notebook__.ipynb",
   "output_path": "__notebook__.ipynb",
   "parameters": {},
   "start_time": "2021-03-29T13:38:12.562519",
   "version": "2.1.0"
  }
 },
 "nbformat": 4,
 "nbformat_minor": 4
}
